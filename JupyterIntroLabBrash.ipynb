{
 "cells": [
  {
   "cell_type": "markdown",
   "metadata": {},
   "source": [
    "# JupyterLab Intro\n",
    "## Physics 201 Lab \n",
    "### June 8, 2021\n",
    "\n",
    "#### First Steps:\n",
    "\n",
    "When you start a notebook the markdown cells are usually 'rendered' meaning they have been processed to yield the intended output. Very much like the html 'code' that is behind a webpage. Your task in this lab is to follow along with this guide and try out a variety of the basic tools that you will use every time you write your lab report.\n",
    "\n",
    "1: To access the markdown syntax that produces the desired output you can 'double click' on this cell. When you do so you should see things change inside this particular unit of the notebook. This unit is called a cell. \n",
    "\n",
    "2: When you want to see the rendered version of the cell 'shift-return' will render the active cell (the one with the blue bar next to it on the left). Try these two steps.\n",
    "\n",
    "You can edit the text and other markdown syntax much like you do in a standard word processing program. You will find that you can **NOT** edit the text or syntax when the cell is rendered.\n",
    "\n",
    "3: To create a new cell use the '+' at the top of your notebook window. \n",
    "<img src=\"https://raw.githubusercontent.com/brash99/PH211/master/images/notebookMenu.png\" />\n",
    "\n",
    "This will create a new cell after the currently active cell. When you do so the new cell will, by default, expect that it is a code cell. This is indicated by the small brackets to the left of the cell.  \n",
    "<img src=\"https://raw.githubusercontent.com/brash99/PH211/master/images/codeCell.png\" />\n",
    "\n",
    "To let the notebook know that you want it to be a markdown cell select 'markdown' from the dropdown menu just below the notebook title.  \n",
    "<img src=\"https://raw.githubusercontent.com/brash99/PH211/master/images/cellType.png\" />\n",
    "\n",
    "You will notice that the small brackets have disappeared.  \n",
    "<img src=\"https://raw.githubusercontent.com/brash99/PH211/master/images/markdownCell.png\" />\n",
    "\n",
    "**Note:** To be sure that the images display correctly in this notebook and in the final .pdf I needed to reference the image to a source on the public web. After a number of attempts this seems to provide a stable solution. The necessary images need to be resident in the repo for this to work. This also solves the problem for students who have downloaded the notebook but not the image folder."
   ]
  },
  {
   "cell_type": "code",
   "execution_count": 1,
   "metadata": {},
   "outputs": [
    {
     "name": "stdout",
     "output_type": "stream",
     "text": [
      "Hello World\n"
     ]
    }
   ],
   "source": [
    "print(\"Hello World\")"
   ]
  },
  {
   "cell_type": "markdown",
   "metadata": {},
   "source": [
    "#### Next Step:\n",
    "\n",
    "For all your lab reports you are asked to have a header in the first cell of your notebook that includes:  \n",
    "- A title for the lab in a fairly large font\n",
    "- underneath the title the date, the class, and your name\n",
    "- a list of your group mates from the lab or folks you worked with\n",
    "\n",
    "You could just edit this notebook to produce this result but if you do that you will lose a number of useful references for how to do things like embed images (first cell), lists (this cell), or hot links (next cell) in your lab report. My recommendation is to go to the Jupyterlab 'File' menu and open a new notebook. The new notebook will show up in a separate tab in the Jupyterlab window. Again, in the 'File' menu, use 'Save Notebook As' to save this new notebook with a useful name. Now you will have both this set of instructions and your personal lab notebook open at the same time. "
   ]
  },
  {
   "cell_type": "markdown",
   "metadata": {},
   "source": [
    "#### Other Thoughts:   \n",
    "If I just start a new line in the markdown text (look at what I did) the processor doesn't produce a new line when it runs the cell. To get a new line I have to be sure to leave two (2) spaces at the end of the previous line.  \n",
    "Like this.. \n",
    "\n",
    "This is what it looks like if I leave a blank line in the markdown text that I am typing."
   ]
  },
  {
   "cell_type": "markdown",
   "metadata": {},
   "source": [
    "## Lab Deliverable:\n",
    "\n",
    "In the first cell of your lab notebook create the header information requested above in reasonable choices of format to distinguish the different parts. Following the header information write a paragraph or two answering the following questions:  \n",
    "- What physics courses have you had before this one?\n",
    "- Why do you think your program asks you to take calculus based physics?\n",
    "- What, if anything, worries you the most about this physics class?\n",
    "- Who is one person in this class that you know and have worked with in another class?"
   ]
  },
  {
   "cell_type": "markdown",
   "metadata": {},
   "source": [
    "## LaTeX\n",
    "\n",
    "LaTex was created as a typesetting language to allow high levels of control over the production of technical and scientific documents. As a stand alone system it is common for graduate schools in all the physical sciences to require LaTeX for theses. Many science and engineering journals require document submissions as LaTeX files. Some undergraduate programs require LaTeX documents for math or engineering homework. Having said all that it is important to note that LaTeX is not common or universal in the professional engineering world. On the other hand python notebooks are much more common. Given that we are often using notebooks to communicate technical content which is rich in math having a tool that allows us to present mathematics more effectively is of real value. Many of the LaTeX formatting tools for math are available within the markdown syntax. This is how we will use it in physics and why you are being asked to learn this skill."
   ]
  },
  {
   "cell_type": "markdown",
   "metadata": {},
   "source": [
    "## Math stuff....\n",
    "\n",
    "### Basic Identity\n",
    "\n",
    "Each of these equations is rendered the same \\(```$``` or ```$$``` around the text accesses LaTeX typesetting\\) except that the second one is displayed centered in the cell.\n",
    "\n",
    "$ 1 = sin(\\theta)^2 + cos(\\theta)^2$\n",
    "\n",
    "$$ 1 = sin(\\theta)^2 + cos(\\theta)^2$$\n",
    "\n",
    "Writing mathematical expressions using embedded LaTeX is a little like a secret code (generally referred to as a markup language - html is also a markup language).\n",
    "\n",
    "### Subscripts/Superscripts\n",
    "\n",
    "Simple:\n",
    "\n",
    "$ x^3 $ or $xy_i$\n",
    "\n",
    "More Complex:\n",
    "\n",
    "$ z^{m+1}$ or $F_{friction}$\n",
    "\n",
    "or Ridiculous:\n",
    "\n",
    "$$p^{n^2 + \\pi_2}_{\\sqrt{x+y^{2}_{1}}}$$\n",
    "\n",
    "In the 'ridiculous' example remove one of the curly brackets ```}``` in the expression and notice how it doesn't render. This is what usually happens when you don't complete all the brackets properly.\n",
    "\n",
    "### Fractions\n",
    "\n",
    "$$ \\frac{z^{m+1}}{a^2 + b^2} $$\n",
    "\n",
    "### Font Size Control\n",
    "\n",
    "$$ \\large \\frac{z^{m+1}}{a^2 + b^2} $$\n",
    "\n",
    "$$ \\tiny \\frac{z^{m+1}}{a^2 + b^2} $$\n",
    "\n",
    "$$ \\huge \\frac{z^{m+1}}{a^2 + b^2} $$\n",
    "\n",
    "### Some Overkill \n",
    "\n",
    "$$\\int_{0}^{t_f}{\\frac{\\pm e^{-ikr}}{4\\gamma r}dr}= \\int{i\\sqrt{\\frac{k}{32\\pi r}} H^{(2)}_{1/2}(kr)dr}$$\n",
    "\n",
    "Yes, it's pretty ridiculous but it illustrates what is possible and the care that can be required to get it to look good....I'm trying to make sure you have the tools but you still have to work for it a little:)"
   ]
  },
  {
   "cell_type": "markdown",
   "metadata": {},
   "source": [
    "## Lab Deliverable:\n",
    "\n",
    "Create another markdown cell below your title cell. In this cell use LaTeX to label and write the Pythagorean formula for the hypotenuse (not the square of the hypotenuse) given a triangle with sides a and b.\n",
    "\n",
    "Label and write the quadratic formula. All the tools you need to do this are in the previous markdown cell.\n"
   ]
  },
  {
   "cell_type": "markdown",
   "metadata": {},
   "source": [
    "## Very Basic Python\n",
    "\n",
    "If you create code cell (the default) you will see the square brackets to the left of the cell. When you 'execute' the cell using 'shift-return' an \\* will appear in the brackets while the code is being executed. After the execution is complete a number will be displayed in the brackets. You can also 'execute' a cell using the run button to the right of the clipboard in the notebook menu.\n",
    "\n",
    "Sometime the cell executes so quickly you don't get to see the \\* and other times you will wonder if the system is stuck. We will explore these possibilities as they come up in future labs. \n",
    "\n",
    "#### Hello World\n",
    "\n",
    "It always starts with 'Hello World' so lets get that out of the way...```print()``` is a command that tells python to output the 'argument' of the command - the stuff inside the parentheses - and the double quotes tell python that it's text. See what happens if you remove the quotes or replace them with single quotes."
   ]
  },
  {
   "cell_type": "code",
   "execution_count": 2,
   "metadata": {},
   "outputs": [
    {
     "name": "stdout",
     "output_type": "stream",
     "text": [
      "Hello World\n"
     ]
    }
   ],
   "source": [
    "print('Hello World')"
   ]
  },
  {
   "cell_type": "markdown",
   "metadata": {},
   "source": [
    "## Basic Math Operations\n",
    "\n",
    "\\* is multiply, / is divide, + and - are pretty clear. The only potential confusion is what to do for powers and roots -- ** gives us exponents which gives us roots - as fractional powers as well.\n",
    "\n",
    "Do some basic math operations in the following code cell to get comfortable with these operations.\n",
    "\n",
    "Note: You may notice that I had to use a ```\\*``` in the markdown syntax to produce just a \\* in the rendered text. The \\* is a control character - tells markdown to make the next stuff italic -  and the ```\\``` tells markdown to ignore the special nature of the character that follows it."
   ]
  },
  {
   "cell_type": "code",
   "execution_count": 3,
   "metadata": {},
   "outputs": [
    {
     "data": {
      "text/plain": [
       "28.0"
      ]
     },
     "execution_count": 3,
     "metadata": {},
     "output_type": "execute_result"
    }
   ],
   "source": [
    "2**5 - 18/3 + 4**.5"
   ]
  },
  {
   "cell_type": "markdown",
   "metadata": {},
   "source": [
    "### Numpy\n",
    "\n",
    "The basic math calculations in python don't really take us far enough for a physics or engineering class. One of the valuable features of python is that the greater community has written libraries of useful tools that we can access relatively easily. One of those libraries is call numpy - for numerical python - and it makes many useful mathematical operations more accessible. For now we will focus primarily on trig functions, square roots, squares, and powers. \n",
    "\n",
    "In the next cell I have used the ```np.sin()``` function to find the sine of 30. The result should tell you whether ```np.sin()``` assumes the angle is in degrees or radians. \n",
    "\n",
    "Ignore the ```import numpy as np``` statement. This is how we make the numpy library available to our notebook. np is defined to be a synonym for numpy. We will learn more about this in the future."
   ]
  },
  {
   "cell_type": "code",
   "execution_count": 4,
   "metadata": {},
   "outputs": [
    {
     "data": {
      "text/plain": [
       "0.49999999999999994"
      ]
     },
     "execution_count": 4,
     "metadata": {},
     "output_type": "execute_result"
    }
   ],
   "source": [
    "import numpy as np\n",
    "np.sin(np.pi*30/180)"
   ]
  },
  {
   "cell_type": "code",
   "execution_count": 5,
   "metadata": {},
   "outputs": [
    {
     "data": {
      "text/plain": [
       "1.5707963267948966"
      ]
     },
     "execution_count": 5,
     "metadata": {},
     "output_type": "execute_result"
    }
   ],
   "source": [
    "90*(np.pi/180)"
   ]
  },
  {
   "cell_type": "markdown",
   "metadata": {},
   "source": [
    "### Possibilities"
   ]
  },
  {
   "cell_type": "code",
   "execution_count": 6,
   "metadata": {},
   "outputs": [
    {
     "data": {
      "text/plain": [
       "-959.0427897874935"
      ]
     },
     "execution_count": 6,
     "metadata": {},
     "output_type": "execute_result"
    }
   ],
   "source": [
    "(np.power(16,2.7)*34.567/12.666)*np.sin(3.5)-2.33/4*(5.2+7)+np.sqrt(545933.2) + np.square(4)"
   ]
  },
  {
   "cell_type": "markdown",
   "metadata": {},
   "source": [
    "### Assigning variables\n",
    "\n",
    "It is tremendously easy to get buried in numbers spewing out of your calculations and physics models. Learning to assign variable names that help your reader understand what you're doing is well worth the effort. We will speak more of this as we go deeper into the course."
   ]
  },
  {
   "cell_type": "code",
   "execution_count": 7,
   "metadata": {},
   "outputs": [
    {
     "name": "stdout",
     "output_type": "stream",
     "text": [
      "This is the result of the giant mess is:  -959.0427897874935\n"
     ]
    }
   ],
   "source": [
    "whatAMess = (np.power(16,2.7)*34.567/12.666)*np.sin(3.5)-2.33/4*(5.2+7)+np.sqrt(545933.2) + np.square(4)\n",
    "print(\"This is the result of the giant mess is: \", whatAMess)"
   ]
  },
  {
   "cell_type": "markdown",
   "metadata": {},
   "source": [
    "## Lab Deliverables:\n",
    "\n",
    "- Create a code cell and use the ```print()``` function to print your name and your preferred mode of transportation. \n",
    "- Create another code cell and use basic python mathematical operations to calculate the magnitude of v in this expression\n",
    "\n",
    "$$ |v| = \\sqrt{14.494^2 + 6.243^2}$$\n",
    "\n",
    "- Create another code cell and calculate v in this expression using numpy and assigning it a variable name. Print out the result using the variable name. Solve for v algebraically and then write your expression for v below using markdown tools. Then calculate v in a code cell.\n",
    "\n",
    "$$ -0.015 v^2 -0.08 * 170 *\\cos{(25^\\circ)} + 170* \\sin{(25^\\circ)} = -5.280$$\n",
    "\n",
    "$$ v = ??$$"
   ]
  },
  {
   "cell_type": "markdown",
   "metadata": {},
   "source": [
    "## Lab Deliverables:\n",
    "\n",
    "### Generate .pdf and turn in!\n",
    "\n",
    "All that remains to do is to export your notebook to a pdf document that you can turn in to whatever LMS we are using. In a professional work setting you might well share you notebook directly with your colleagues or it may be hosted on a github repo for your job site. For us, because you are turning your notebooks into the LMS they need to be converted to pdf's so they can be recognized by the LMS. The link below is our current best process for converting the notebook to a pdf. \n",
    "\n",
    "[Current Best pdf Export Process](http://coccweb.cocc.edu/bemerson/PhysicsGlobal/Courses/PH211/PH211Learning/PH211Software/Jupyter/PH211JupyterExpt.html)\n",
    "\n",
    "**Note:** You may well ask why not just export the notebook directly to a pdf (an option in the 'Export Notebook As' menu)? Seems obvious enough but the broad experience across many users is that there are many ways that export process can break. The process documented above has been the most reliable."
   ]
  },
  {
   "cell_type": "markdown",
   "metadata": {},
   "source": [
    "# Expt 1: Density Measurements and Uncertainties Objectives\n",
    "\n",
    "1. To learn the basics of good lab practice\n",
    "2. To learn how to estimate uncertainties\n",
    "3. To learn how to propagate uncertainties\n",
    "4. To learn how to compare measurement methods\n",
    "\n",
    "## Equipment\n",
    "\n",
    "- One set of five (5) unknown cylinders of the same composition\n",
    "- One beaker\n",
    "- One or two 50 mL graduated cylinders\n",
    "- One vernier or digital caliper\n",
    "- One micrometer\n",
    "- One digital scale or beam balance\n",
    "- One “mass hanging” assembly\n",
    "\n",
    "## Safety\n",
    "\n",
    "* Never drop metal cylinders into glass containers!\n",
    "* Please read the section below on proper use of a graduated cylinder."
   ]
  },
  {
   "cell_type": "code",
   "execution_count": 12,
   "metadata": {},
   "outputs": [
    {
     "data": {
      "application/vnd.jupyter.widget-view+json": {
       "model_id": "b37b04cfe658417dbb7167cae19e02b0",
       "version_major": 2,
       "version_minor": 0
      },
      "text/plain": [
       "Sheet(cells=(Cell(column_end=0, column_start=0, row_end=0, row_start=0, type='text', value='Hello'), Cell(colu…"
      ]
     },
     "metadata": {},
     "output_type": "display_data"
    }
   ],
   "source": [
    "from ipysheet import sheet, cell, row, column, cell_range\n",
    "\n",
    "sheet1 = sheet(rows=3, columns=4)\n",
    "cell1 = cell(0,0,'Hello')\n",
    "cell2 = cell(2,0,'World')\n",
    "cell_value = cell(2,2,42.)\n",
    "\n",
    "sheet1"
   ]
  },
  {
   "cell_type": "code",
   "execution_count": null,
   "metadata": {},
   "outputs": [],
   "source": []
  }
 ],
 "metadata": {
  "kernelspec": {
   "display_name": "Python 3",
   "language": "python",
   "name": "python3"
  },
  "language_info": {
   "codemirror_mode": {
    "name": "ipython",
    "version": 3
   },
   "file_extension": ".py",
   "mimetype": "text/x-python",
   "name": "python",
   "nbconvert_exporter": "python",
   "pygments_lexer": "ipython3",
   "version": "3.6.8"
  }
 },
 "nbformat": 4,
 "nbformat_minor": 4
}
